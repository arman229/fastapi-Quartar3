{
 "cells": [
  {
   "cell_type": "code",
   "execution_count": 2,
   "id": "cd74bb95",
   "metadata": {},
   "outputs": [
    {
     "name": "stdout",
     "output_type": "stream",
     "text": [
      "pakisan zindabad python\n"
     ]
    }
   ],
   "source": [
    "print(\"pakisan zindabad python\")"
   ]
  },
  {
   "cell_type": "code",
   "execution_count": 15,
   "id": "22d70123",
   "metadata": {},
   "outputs": [],
   "source": [
    "import os\n",
    "from dotenv import load_dotenv,find_dotenv\n",
    "from openai import OpenAI\n",
    "# find_dotenv : this function finds the environment variables if .env file is in the same location otherwise \n",
    "# we cna pass the path of the .env file in the find_dotenv function\n",
    "# load_dotenv : this function loads the environment variables\n",
    "# In Python __ is a temporary variable it means that this variable  are not used in in my code \n",
    "__:bool =load_dotenv(find_dotenv())\n",
    "\n",
    "Client =OpenAI()\n"
   ]
  },
  {
   "cell_type": "code",
   "execution_count": 16,
   "id": "f2c366f3",
   "metadata": {},
   "outputs": [
    {
     "name": "stdout",
     "output_type": "stream",
     "text": [
      "Arman ashraf\n"
     ]
    }
   ],
   "source": [
    "print(os.getenv(\"MY_NAME\"))"
   ]
  },
  {
   "cell_type": "markdown",
   "id": "0f36bbbd",
   "metadata": {},
   "source": []
  },
  {
   "cell_type": "code",
   "execution_count": 19,
   "id": "82a4dca0",
   "metadata": {},
   "outputs": [],
   "source": [
    "from openai.types.chat.chat_completion import ChatCompletion\n",
    "\n",
    "def Chat_Complation(prompt:str)->ChatCompletion:\n",
    "    response:ChatCompletion = Client.Chat.completion.create(\n",
    "        message=[\n",
    "            {\"role\": \"user\",\n",
    "             \"content\":prompt,\n",
    "                \n",
    "            }\n",
    "        ],\n",
    "         model=\"gpt-3.5-turbo-1106\"\n",
    "    )\n",
    "    return response\n"
   ]
  },
  {
   "cell_type": "code",
   "execution_count": 20,
   "id": "15541369",
   "metadata": {},
   "outputs": [
    {
     "ename": "AttributeError",
     "evalue": "'OpenAI' object has no attribute 'Chat'",
     "output_type": "error",
     "traceback": [
      "\u001b[0;31m---------------------------------------------------------------------------\u001b[0m",
      "\u001b[0;31mAttributeError\u001b[0m                            Traceback (most recent call last)",
      "Cell \u001b[0;32mIn[20], line 2\u001b[0m\n\u001b[1;32m      1\u001b[0m \u001b[38;5;28;01mfrom\u001b[39;00m \u001b[38;5;21;01mopenai\u001b[39;00m\u001b[38;5;21;01m.\u001b[39;00m\u001b[38;5;21;01mtypes\u001b[39;00m\u001b[38;5;21;01m.\u001b[39;00m\u001b[38;5;21;01mchat\u001b[39;00m\u001b[38;5;21;01m.\u001b[39;00m\u001b[38;5;21;01mchat_completion\u001b[39;00m \u001b[38;5;28;01mimport\u001b[39;00m ChatCompletion\n\u001b[0;32m----> 2\u001b[0m final_output \u001b[38;5;241m=\u001b[39m \u001b[43mChat_Complation\u001b[49m\u001b[43m(\u001b[49m\u001b[38;5;124;43m\"\u001b[39;49m\u001b[38;5;124;43mgive me a number that is divided by 7,8,9 and number is even\u001b[39;49m\u001b[38;5;124;43m\"\u001b[39;49m\u001b[43m)\u001b[49m\n\u001b[1;32m      3\u001b[0m final_output\u001b[38;5;241m.\u001b[39mchoices[\u001b[38;5;241m0\u001b[39m]\u001b[38;5;241m.\u001b[39mmessage\u001b[38;5;241m.\u001b[39mcontent\n",
      "Cell \u001b[0;32mIn[19], line 4\u001b[0m, in \u001b[0;36mChat_Complation\u001b[0;34m(prompt)\u001b[0m\n\u001b[1;32m      3\u001b[0m \u001b[38;5;28;01mdef\u001b[39;00m \u001b[38;5;21mChat_Complation\u001b[39m(prompt:\u001b[38;5;28mstr\u001b[39m)\u001b[38;5;241m-\u001b[39m\u001b[38;5;241m>\u001b[39mChatCompletion:\n\u001b[0;32m----> 4\u001b[0m     response:ChatCompletion \u001b[38;5;241m=\u001b[39m \u001b[43mClient\u001b[49m\u001b[38;5;241;43m.\u001b[39;49m\u001b[43mChat\u001b[49m\u001b[38;5;241m.\u001b[39mcompletion\u001b[38;5;241m.\u001b[39mcreate(\n\u001b[1;32m      5\u001b[0m         message\u001b[38;5;241m=\u001b[39m[\n\u001b[1;32m      6\u001b[0m             {\u001b[38;5;124m\"\u001b[39m\u001b[38;5;124mrole\u001b[39m\u001b[38;5;124m\"\u001b[39m: \u001b[38;5;124m\"\u001b[39m\u001b[38;5;124muser\u001b[39m\u001b[38;5;124m\"\u001b[39m,\n\u001b[1;32m      7\u001b[0m              \u001b[38;5;124m\"\u001b[39m\u001b[38;5;124mcontent\u001b[39m\u001b[38;5;124m\"\u001b[39m:prompt,\n\u001b[1;32m      8\u001b[0m                 \n\u001b[1;32m      9\u001b[0m             }\n\u001b[1;32m     10\u001b[0m         ],\n\u001b[1;32m     11\u001b[0m          model\u001b[38;5;241m=\u001b[39m\u001b[38;5;124m\"\u001b[39m\u001b[38;5;124mgpt-3.5-turbo-1106\u001b[39m\u001b[38;5;124m\"\u001b[39m\n\u001b[1;32m     12\u001b[0m     )\n\u001b[1;32m     13\u001b[0m     \u001b[38;5;28;01mreturn\u001b[39;00m response\n",
      "\u001b[0;31mAttributeError\u001b[0m: 'OpenAI' object has no attribute 'Chat'"
     ]
    }
   ],
   "source": [
    "from openai.types.chat.chat_completion import ChatCompletion\n",
    "final_output = Chat_Complation(\"give me a number that is divided by 7,8,9 and number is even\")\n",
    "final_output.choices[0].message.content\n"
   ]
  },
  {
   "cell_type": "code",
   "execution_count": null,
   "id": "b103d3b6-165a-4304-9456-01bc3300b58c",
   "metadata": {},
   "outputs": [],
   "source": []
  }
 ],
 "metadata": {
  "kernelspec": {
   "display_name": "Python 3 (ipykernel)",
   "language": "python",
   "name": "python3"
  },
  "language_info": {
   "codemirror_mode": {
    "name": "ipython",
    "version": 3
   },
   "file_extension": ".py",
   "mimetype": "text/x-python",
   "name": "python",
   "nbconvert_exporter": "python",
   "pygments_lexer": "ipython3",
   "version": "3.12.3"
  }
 },
 "nbformat": 4,
 "nbformat_minor": 5
}
